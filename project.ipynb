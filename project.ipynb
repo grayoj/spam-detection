{
 "cells": [
  {
   "cell_type": "markdown",
   "metadata": {},
   "source": [
    "# Spam Classification\n",
    "\n",
    "A quite simple application that demonstrates the use of Naive Bayes algorithm for multinomial models, pandas for reading datasets and other sickitlearn models."
   ]
  },
  {
   "cell_type": "markdown",
   "metadata": {},
   "source": [
    "## Installation\n",
    "\n",
    "``Step 1``\n",
    "\n",
    "Clone this repository. \n",
    "```shell\n",
    "git clone https://github.com/grayoj/spam-detection.git\n",
    "```\n",
    "\n",
    "Install the <a href=\"http://python.org\">Python Programming Language</a>\n",
    "\n",
    "``Step 2``\n",
    "Using Pip, Install <a href=\"http://streamlit.com\">Streamlit</a> which is the server for the application.\n",
    "```shell\n",
    "$ pip install streamlit\n",
    "```\n",
    "\n",
    "``Step 3``\n",
    "Install pandas to read data sets\n",
    "```shell\n",
    "$ pip install pandas\n",
    "```\n",
    "\n",
    "``Step 4``\n",
    "Install Sickitlearn modules that contains all necessary modules used in the project\n",
    "```shell\n",
    "$ pip install sklearn\n",
    "```\n",
    "\n",
    "``Step 5``\n",
    "Install Numpy for mathematical functions.\n",
    "```shell\n",
    "$ pip install numpy\n",
    "```\n",
    "\n",
    "``Step 6``\n",
    "Install the Natural language model toolkit.\n",
    "```shell\n",
    "$ pip install nltk\n",
    "```\n",
    "\n",
    "If you use Pylance, it should validate all imports made."
   ]
  },
  {
   "cell_type": "code",
   "execution_count": null,
   "metadata": {},
   "outputs": [],
   "source": [
    "# Import String\n",
    "import string\n",
    "from sklearn.model_selection import train_test_split\n",
    "\n",
    "# Import pandas to read CSV files.\n",
    "import pandas as pd\n",
    "\n",
    "# Import natural language toolkit.\n",
    "import nltk\n",
    "\n",
    "nltk.download('stopwords')\n",
    "from nltk.corpus import stopwords\n",
    "\n",
    "# Import Sickitlearn\n",
    "import sklearn\n",
    "\n",
    "# Import Naive Bayes Module\n",
    "from sklearn.naive_bayes import MultinomialNB\n",
    "from sklearn.feature_extraction.text import CountVectorizer\n",
    "# Import module to display accuracy\n",
    "from sklearn.metrics import accuracy_score, confusion_matrix, classification_report"
   ]
  },
  {
   "cell_type": "markdown",
   "metadata": {},
   "source": [
    "## Multinomial NB\n",
    "The Multinomial Naive Bayes algorithm is a classifier is used for the classification with discrete features.\n",
    "<a href=\"https://scikit-learn.org/stable/modules/generated/sklearn.naive_bayes.MultinomialNB.html\">Sklearn</a>"
   ]
  },
  {
   "cell_type": "markdown",
   "metadata": {},
   "source": [
    "## Loading the Dataset"
   ]
  },
  {
   "cell_type": "code",
   "execution_count": null,
   "metadata": {},
   "outputs": [],
   "source": [
    "\n",
    "df = pd.read_csv('dataset/data.csv')\n",
    "df = df.drop(['Unnamed: 2', 'Unnamed: 3', 'Unnamed: 4'], axis =1)\n",
    "df.rename(columns = {'v1':'labels', 'v2': 'message'}, inplace = True)\n",
    "df.drop_duplicates(inplace = True)\n",
    "df['labels'] = df['labels'].map({'ham': 0, 'spam': 1})\n",
    "print(df.head())"
   ]
  },
  {
   "cell_type": "markdown",
   "metadata": {},
   "source": [
    "## Cleaning the Dataset"
   ]
  },
  {
   "cell_type": "code",
   "execution_count": null,
   "metadata": {},
   "outputs": [],
   "source": [
    "def clean_data(message):\n",
    "    message_without_labels = message\n",
    "    message_without_punc = [character for character in message if character not in string]\n",
    "    message_without_punc = ''.join(message_without_punc)\n",
    "    \n",
    "    separator = ''\n",
    "    return separator.join([word for word in message_without_punc.split() if word.lower() not in stopwords.words('english')])\n",
    "\n",
    "df['message'] = df['message'].apply(clean_data)\n",
    "x = df['message']\n",
    "y = df['labels']"
   ]
  },
  {
   "cell_type": "markdown",
   "metadata": {},
   "source": [
    "## Implement Count Vectorizer\n",
    "This would Convert a collection of text to a matrix of token counts."
   ]
  },
  {
   "cell_type": "code",
   "execution_count": null,
   "metadata": {},
   "outputs": [],
   "source": [
    "cv = CountVectorizer()"
   ]
  },
  {
   "cell_type": "markdown",
   "metadata": {},
   "source": [
    "## Train Model"
   ]
  },
  {
   "cell_type": "code",
   "execution_count": null,
   "metadata": {},
   "outputs": [],
   "source": [
    "x = cv.fit_transform(x)\n",
    "\n",
    "x_train, x_test, y_train, y_test = train_test_split(x, y, test_size = 0.2, random_state = 0)\n",
    "\n",
    "model = MultinomialNB().fit(x_train, y_train)\n",
    "predictions = model.predict(x_test)\n",
    "\n",
    "print(accuracy_score(y_test, predictions))\n",
    "print(confusion_matrix(y_test, predictions))\n",
    "print(classification_report(y_test, predictions))"
   ]
  },
  {
   "cell_type": "markdown",
   "metadata": {},
   "source": [
    "## Predict Text\n",
    "Predict text and return string"
   ]
  },
  {
   "cell_type": "code",
   "execution_count": null,
   "metadata": {},
   "outputs": [],
   "source": [
    "def predict(text):\n",
    "    labels = ['This is not a Spam', 'This is Spam']\n",
    "    x = cv.fit_transform(text).toarray()\n",
    "    p = model.predict(x)\n",
    "    s = [str(i) for i in p]\n",
    "    v = int(''.join(s))\n",
    "    return str('This message looks like a spam message.')"
   ]
  }
 ],
 "metadata": {
  "interpreter": {
   "hash": "23bf0724a01b6ea9814e66f76182ea78c0ee849a72ca257c0e116bf83bb4960a"
  },
  "kernelspec": {
   "display_name": "Python 3.9.7 ('base')",
   "language": "python",
   "name": "python3"
  },
  "language_info": {
   "codemirror_mode": {
    "name": "ipython",
    "version": 3
   },
   "file_extension": ".py",
   "mimetype": "text/x-python",
   "name": "python",
   "nbconvert_exporter": "python",
   "pygments_lexer": "ipython3",
   "version": "3.9.7"
  },
  "orig_nbformat": 4
 },
 "nbformat": 4,
 "nbformat_minor": 2
}
